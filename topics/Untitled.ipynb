{
 "cells": [
  {
   "cell_type": "code",
   "execution_count": 1,
   "metadata": {},
   "outputs": [],
   "source": [
    "import pandas as pd\n",
    "import numpy as np\n",
    "import os\n",
    "import sys\n",
    "import boto3\n",
    "from dynamo import *\n",
    "from utils import *\n",
    "import time\n",
    "from sklearn.feature_extraction.text import TfidfVectorizer\n",
    "from tensorly.decomposition import non_negative_parafac\n",
    "import tensorly as tl\n",
    "import matplotlib.pyplot as plt\n",
    "import seaborn as sns"
   ]
  },
  {
   "cell_type": "code",
   "execution_count": 2,
   "metadata": {},
   "outputs": [],
   "source": [
    "AWS_KEY = os.environ['AWS_KEY']\n",
    "AWS_SECRET = os.environ['AWS_SECRET']"
   ]
  },
  {
   "cell_type": "code",
   "execution_count": 3,
   "metadata": {},
   "outputs": [],
   "source": [
    "db = boto3.resource(service_name='dynamodb',\n",
    "                    region_name='us-east-1',\n",
    "                    aws_access_key_id=AWS_KEY,\n",
    "                    aws_secret_access_key=AWS_SECRET)"
   ]
  },
  {
   "cell_type": "code",
   "execution_count": 10,
   "metadata": {},
   "outputs": [],
   "source": [
    "sample_size=600"
   ]
  },
  {
   "cell_type": "code",
   "execution_count": 22,
   "metadata": {
    "scrolled": true
   },
   "outputs": [
    {
     "name": "stdout",
     "output_type": "stream",
     "text": [
      "Creating process 1 to sample UIDs for month 2\n",
      "Creating process 2 to sample UIDs for month 3\n",
      "Creating process 3 to sample UIDs for month 4\n",
      "Creating process 4 to sample UIDs for month 5\n",
      "Creating process 5 to sample UIDs for month 6\n",
      "Creating process 6 to sample UIDs for month 7\n",
      "Creating process 7 to sample UIDs for month 8\n",
      "Checking for cached UIDs for 2019/1\n",
      "Checking for cached UIDs for 2019/6\n",
      "Checking for cached UIDs for 2019/2\n",
      "Checking for cached UIDs for 2019/3\n",
      "Checking for cached UIDs for 2019/4\n",
      "Checking for cached UIDs for 2019/5\n",
      "Creating process 8 to sample UIDs for month 9\n",
      "Cache found - loading from local\n",
      "Cache found - loading from local\n",
      "Cache found - loading from local\n",
      "Cache found - loading from local\n",
      "Checking for cached UIDs for 2019/7\n",
      "Cache found - loading from local\n",
      "Cache found - loading from local\n",
      "Creating process 9 to sample UIDs for month 10\n",
      "Creating process 10 to sample UIDs for month 11\n",
      "Checking for cached UIDs for 2019/9\n",
      "Checking for cached UIDs for 2019/8\n",
      "Creating process 11 to sample UIDs for month 12\n",
      "Cache found - loading from local\n",
      "Cache found - loading from local\n",
      "Cache found - loading from local\n",
      "Cache found - loading from local\n",
      "Creating process 12 to sample UIDs for month 13\n",
      "Checking for cached UIDs for 2019/10\n",
      "Checking for cached UIDs for 2019/11\n",
      "Cache found - loading from local\n",
      "Flushing Queue pipes for UIDs\n",
      "Flushing Queue pipes for UIDs\n",
      "Flushing Queue pipes for UIDs\n",
      "Flushing Queue pipes for UIDs\n",
      "Checking for cached UIDs for 2019/12\n",
      "Cache found - loading from local\n",
      "Flushing Queue pipes for UIDs\n",
      "Flushing Queue pipes for UIDs\n",
      "Flushing Queue pipes for UIDs\n",
      "Flushing Queue pipes for UIDs\n",
      "Flushing Queue pipes for UIDs\n",
      "Flushing Queue pipes for UIDs\n",
      "Flushing Queue pipes for UIDs\n",
      "Flushing Queue pipes for UIDs\n",
      "Flushing Queue pipes for UIDs\n",
      "Flushing Queue pipes for UIDs\n",
      "joining process 0\n",
      "joining process 1\n",
      "joining process 2\n",
      "joining process 3\n",
      "joining process 4\n",
      "joining process 5\n",
      "joining process 6\n",
      "joining process 7\n",
      "joining process 8\n",
      "joining process 9\n",
      "joining process 10\n",
      "joining process 11\n",
      "Creating process for BOWs for month 1\n",
      "Creating process for BOWs for month 2\n",
      "Creating process for BOWs for month 3\n",
      "Creating process for BOWs for month 4\n",
      "Creating process for BOWs for month 5\n",
      "Creating process for BOWs for month 6\n",
      "Creating process for BOWs for month 7\n",
      "Creating process for BOWs for month 8\n",
      "Creating process for BOWs for month 9\n",
      "Creating process for BOWs for month 10\n",
      "Creating process for BOWs for month 11\n",
      "Creating process for BOWs for month 12\n",
      "Flushing Queue pipes for BOWs\n",
      "Flushing Queue pipes for BOWs\n",
      "Flushing Queue pipes for BOWs\n",
      "Flushing Queue pipes for BOWs\n",
      "Flushing Queue pipes for BOWs\n",
      "Flushing Queue pipes for BOWs\n",
      "Flushing Queue pipes for BOWs\n",
      "Flushing Queue pipes for BOWs\n",
      "Flushing Queue pipes for BOWs\n",
      "Flushing Queue pipes for BOWs\n",
      "Flushing Queue pipes for BOWs\n",
      "Flushing Queue pipes for BOWs\n",
      "Flushing Queue pipes for BOWs\n",
      "Flushing Queue pipes for BOWs\n",
      "Flushing Queue pipes for BOWs\n",
      "Flushing Queue pipes for BOWs\n",
      "Flushing Queue pipes for BOWs\n",
      "Flushing Queue pipes for BOWs\n",
      "Flushing Queue pipes for BOWs\n",
      "Flushing Queue pipes for BOWs\n",
      "Flushing Queue pipes for BOWs\n",
      "Flushing Queue pipes for BOWs\n",
      "Flushing Queue pipes for BOWs\n",
      "Flushing Queue pipes for BOWs\n",
      "Flushing Queue pipes for BOWs\n",
      "Flushing Queue pipes for BOWs\n",
      "Flushing Queue pipes for BOWs\n",
      "Flushing Queue pipes for BOWs\n",
      "Flushing Queue pipes for BOWs\n",
      "Flushing Queue pipes for BOWs\n",
      "Flushing Queue pipes for BOWs\n",
      "Flushing Queue pipes for BOWs\n",
      "Flushing Queue pipes for BOWs\n",
      "Flushing Queue pipes for BOWs\n",
      "Flushing Queue pipes for BOWs\n",
      "Flushing Queue pipes for BOWs\n",
      "Flushing Queue pipes for BOWs\n",
      "Flushing Queue pipes for BOWs\n",
      "Flushing Queue pipes for BOWs\n",
      "Flushing Queue pipes for BOWs\n",
      "Flushing Queue pipes for BOWs\n",
      "Flushing Queue pipes for BOWs\n",
      "Flushing Queue pipes for BOWs\n",
      "Flushing Queue pipes for BOWs\n",
      "Flushing Queue pipes for BOWs\n",
      "Flushing Queue pipes for BOWs\n",
      "Flushing Queue pipes for BOWs\n",
      "Flushing Queue pipes for BOWs\n",
      "Flushing Queue pipes for BOWs\n",
      "Flushing Queue pipes for BOWs\n",
      "Flushing Queue pipes for BOWs\n",
      "Flushing Queue pipes for BOWs\n",
      "Flushing Queue pipes for BOWs\n",
      "Flushing Queue pipes for BOWs\n",
      "Flushing Queue pipes for BOWs\n",
      "Flushing Queue pipes for BOWs\n",
      "Flushing Queue pipes for BOWs\n",
      "Flushing Queue pipes for BOWs\n",
      "Flushing Queue pipes for BOWs\n",
      "Flushing Queue pipes for BOWs\n",
      "Flushing Queue pipes for BOWs\n",
      "Flushing Queue pipes for BOWs\n",
      "Flushing Queue pipes for BOWs\n",
      "Flushing Queue pipes for BOWs\n",
      "Flushing Queue pipes for BOWs\n",
      "Flushing Queue pipes for BOWs\n",
      "Flushing Queue pipes for BOWs\n",
      "Flushing Queue pipes for BOWs\n",
      "Flushing Queue pipes for BOWs\n",
      "Flushing Queue pipes for BOWs\n",
      "Flushing Queue pipes for BOWs\n",
      "Flushing Queue pipes for BOWs\n",
      "Flushing Queue pipes for BOWs\n",
      "Flushing Queue pipes for BOWs\n",
      "Flushing Queue pipes for BOWs\n",
      "Flushing Queue pipes for BOWs\n",
      "Flushing Queue pipes for BOWs\n",
      "Flushing Queue pipes for BOWs\n",
      "Flushing Queue pipes for BOWs\n",
      "Flushing Queue pipes for BOWs\n",
      "Flushing Queue pipes for BOWs\n",
      "Flushing Queue pipes for BOWs\n",
      "Flushing Queue pipes for BOWs\n",
      "Flushing Queue pipes for BOWs\n",
      "Flushing Queue pipes for BOWs\n",
      "Flushing Queue pipes for BOWs\n",
      "Flushing Queue pipes for BOWs\n",
      "Flushing Queue pipes for BOWs\n",
      "Flushing Queue pipes for BOWs\n",
      "Flushing Queue pipes for BOWs\n",
      "Flushing Queue pipes for BOWs\n",
      "Flushing Queue pipes for BOWs\n",
      "Flushing Queue pipes for BOWs\n",
      "Flushing Queue pipes for BOWs\n",
      "Flushing Queue pipes for BOWs\n",
      "Flushing Queue pipes for BOWs\n",
      "Flushing Queue pipes for BOWs\n",
      "Flushing Queue pipes for BOWs\n",
      "Flushing Queue pipes for BOWs\n",
      "Flushing Queue pipes for BOWs\n",
      "Flushing Queue pipes for BOWs\n"
     ]
    }
   ],
   "source": [
    "\n",
    "bows = temporal_topic_extraction(2019, sample_size, db, throttled=False)\n"
   ]
  },
  {
   "cell_type": "code",
   "execution_count": 23,
   "metadata": {},
   "outputs": [],
   "source": [
    "b = [' '.join(y) for x in bows for y in x]"
   ]
  },
  {
   "cell_type": "code",
   "execution_count": 24,
   "metadata": {},
   "outputs": [],
   "source": [
    "vectorizer = TfidfVectorizer(max_features=10000)\n",
    "X = np.array(vectorizer.fit_transform(b).todense()).astype(np.float32)\n"
   ]
  },
  {
   "cell_type": "code",
   "execution_count": 25,
   "metadata": {},
   "outputs": [],
   "source": [
    "t = np.dstack([X[i*sample_size:(i+1)*sample_size] for i in range(12)]).transpose(1,0,2)"
   ]
  },
  {
   "cell_type": "code",
   "execution_count": 26,
   "metadata": {},
   "outputs": [],
   "source": [
    "w,f = non_negative_parafac(tensor=tl.tensor(t), rank=12, n_iter_max=10000)"
   ]
  },
  {
   "cell_type": "code",
   "execution_count": null,
   "metadata": {},
   "outputs": [],
   "source": []
  },
  {
   "cell_type": "code",
   "execution_count": null,
   "metadata": {},
   "outputs": [],
   "source": []
  },
  {
   "cell_type": "code",
   "execution_count": null,
   "metadata": {},
   "outputs": [],
   "source": []
  },
  {
   "cell_type": "code",
   "execution_count": 16,
   "metadata": {},
   "outputs": [],
   "source": [
    "def plotit3(array, title, yaxis=None, xaxis=None, ylabel=None, xlabel=None):\n",
    "    plt.figure(figsize=(15,8))\n",
    "    sns.heatmap(array, cmap='Blues')\n",
    "    plt.title(title)\n",
    "    if yaxis:\n",
    "        plt.yticks(range(len(yaxis)),yaxis, rotation=0)\n",
    "    if xaxis:\n",
    "        plt.xticks(xaxis)\n",
    "    if ylabel:\n",
    "        plt.ylabel(ylabel)\n",
    "    if xlabel:\n",
    "        plt.xlabel(xlabel)\n",
    "    plt.show()"
   ]
  },
  {
   "cell_type": "code",
   "execution_count": 17,
   "metadata": {},
   "outputs": [],
   "source": [
    "# function to convert the most important vectorized terms back to words\n",
    "def get_topics(array, threshold, vectorizer):\n",
    "    \n",
    "    #extract the location of the highest values above threshold sorted highest to lowest\n",
    "    top_words = sorted(np.argwhere(array > threshold).ravel().tolist(), reverse=True)\n",
    "    \n",
    "    #convert back to words and return\n",
    "    return np.array(vectorizer.get_feature_names())[top_words]"
   ]
  },
  {
   "cell_type": "code",
   "execution_count": 27,
   "metadata": {},
   "outputs": [
    {
     "data": {
      "image/png": "[encoded data removed]",
      "text/plain": [
       "<Figure size 1080x576 with 2 Axes>"
      ]
     },
     "metadata": {
      "needs_background": "light"
     },
     "output_type": "display_data"
    }
   ],
   "source": [
    "months = ['Jan', 'Feb', 'Mar', 'Apr', 'May', 'Jun', 'Jul', 'Aug', 'Sep', 'Oct', 'Nov', 'Dec']\n",
    "plotit3(f[2], 'Topic Evolution Over Time - {}'.format(2019), yaxis=months, ylabel='Months', xlabel='Topics')"
   ]
  },
  {
   "cell_type": "code",
   "execution_count": 28,
   "metadata": {},
   "outputs": [
    {
     "data": {
      "image/png": "[encoded data removed]",
      "text/plain": [
       "<Figure size 1080x576 with 2 Axes>"
      ]
     },
     "metadata": {
      "needs_background": "light"
     },
     "output_type": "display_data"
    }
   ],
   "source": [
    "#visualize word importance per topic - should be mode-1 matrix\n",
    "plotit3(f[0], 'Word Importance per Topic - {}'.format(2019), ylabel='Words', xlabel='Topics')"
   ]
  },
  {
   "cell_type": "code",
   "execution_count": 29,
   "metadata": {},
   "outputs": [
    {
     "name": "stdout",
     "output_type": "stream",
     "text": [
      "\n",
      "Topic 0: ['year' 'write' 'world' 'work' 'woman' 'well' 'week' 'want' 'two' 'time'\n",
      " 'three' 'tell' 'take' 'story' 'statement' 'state' 'start' 'show' 'see'\n",
      " 'right' 'reuter' 'report' 'police' 'play' 'percent' 'people' 'one' 'new'\n",
      " 'need' 'million' 'may' 'many' 'make' 'look' 'life' 'late' 'last' 'know'\n",
      " 'include' 'home' 'help' 'group' 'good' 'give' 'game' 'first' 'find'\n",
      " 'family' 'even' 'day' 'country' 'company' 'come' 'city' 'change' 'call'\n",
      " 'back' 'add' 'accord']\n",
      "\n",
      "Topic 1: ['trade' 'stock' 'rise' 'rate' 'quarter' 'price' 'oil' 'market' 'low'\n",
      " 'investor' 'index' 'high' 'growth' 'global' 'gain' 'fall' 'euro'\n",
      " 'economy' 'dollar' 'cut' 'central' 'billion' 'bank']\n",
      "\n",
      "Topic 2: ['white' 'whistleblower' 'ukrainian' 'ukraine' 'trump' 'republican'\n",
      " 'president' 'official' 'mr' 'inquiry' 'impeachment' 'house' 'giuliani'\n",
      " 'democratic' 'democrat' 'biden']\n",
      "\n",
      "Topic 3: ['trump' 'republican' 'president' 'impeachment' 'house' 'hill'\n",
      " 'democratic' 'democrat']\n",
      "\n",
      "Topic 4: ['story' 'require' 'read' 'prime' 'membership' 'full' 'bi' 'article']\n",
      "\n",
      "Topic 5: ['yield' 'year' 'trade' 'stock' 'share' 'rise' 'reuter' 'report' 'rate'\n",
      " 'quarter' 'profit' 'price' 'million' 'market' 'low' 'july' 'investor'\n",
      " 'index' 'growth' 'financial' 'feed' 'fall' 'economy' 'earnings' 'cut'\n",
      " 'company' 'central' 'billion' 'bank' 'analyst']\n",
      "\n",
      "Topic 6: ['wall' 'trump' 'shutdown' 'president' 'house' 'government' 'fund'\n",
      " 'democrat' 'border']\n",
      "\n",
      "Topic 7: ['trump' 'president' 'house' 'hill' 'democratic' 'democrat']\n",
      "\n",
      "Topic 8: ['vote' 'trump' 'state' 'republican' 'president' 'mr' 'house' 'hill'\n",
      " 'democratic' 'democrat' 'campaign' 'border' 'biden']\n",
      "\n",
      "Topic 9: ['whistleblower' 'ukrainian' 'ukraine' 'trump' 'president' 'impeachment'\n",
      " 'house' 'giuliani' 'democrat' 'biden']\n",
      "\n",
      "Topic 10: ['trade' 'stock' 'share' 'rise' 'revenue' 'report' 'rate' 'quarter'\n",
      " 'profit' 'price' 'per' 'oct' 'million' 'market' 'growth' 'forecast'\n",
      " 'fall' 'euro' 'earnings' 'brexit' 'billion' 'bank' 'analyst']\n",
      "\n",
      "Topic 11: ['trump' 'trade' 'tariff' 'republican' 'president' 'mr' 'house' 'hill'\n",
      " 'democrat']\n"
     ]
    }
   ],
   "source": [
    "#get the words for each topic\n",
    "words_per_topic = [get_topics(f[0][:,i], 0.2, vectorizer) for i in range(12)]\n",
    "for pos, topic in enumerate(words_per_topic):\n",
    "    print('\\nTopic {}: {}'.format(pos, topic))"
   ]
  },
  {
   "cell_type": "code",
   "execution_count": null,
   "metadata": {},
   "outputs": [],
   "source": []
  },
  {
   "cell_type": "code",
   "execution_count": null,
   "metadata": {},
   "outputs": [],
   "source": []
  }
 ],
 "metadata": {
  "kernelspec": {
   "display_name": "Python 3",
   "language": "python",
   "name": "python3"
  },
  "language_info": {
   "codemirror_mode": {
    "name": "ipython",
    "version": 3
   },
   "file_extension": ".py",
   "mimetype": "text/x-python",
   "name": "python",
   "nbconvert_exporter": "python",
   "pygments_lexer": "ipython3",
   "version": "3.7.4"
  }
 },
 "nbformat": 4,
 "nbformat_minor": 2
}
