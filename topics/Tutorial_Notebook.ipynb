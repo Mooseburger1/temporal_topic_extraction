{
 "cells": [
  {
   "cell_type": "code",
   "execution_count": 1,
   "metadata": {},
   "outputs": [
    {
     "data": {
      "text/html": [
       "<style>.container { width:100% !important; }</style>"
      ],
      "text/plain": [
       "<IPython.core.display.HTML object>"
      ]
     },
     "metadata": {},
     "output_type": "display_data"
    }
   ],
   "source": [
    "from IPython.core.display import display, HTML\n",
    "display(HTML(\"<style>.container { width:100% !important; }</style>\"))"
   ]
  },
  {
   "cell_type": "code",
   "execution_count": 2,
   "metadata": {},
   "outputs": [],
   "source": [
    "import pandas as pd\n",
    "import numpy as np\n",
    "import os\n",
    "import sys\n",
    "import boto3\n",
    "from dynamo import *\n",
    "from utils import *\n",
    "from sklearn.feature_extraction.text import TfidfVectorizer\n",
    "from tensorly.decomposition import non_negative_parafac\n",
    "import tensorly as tl"
   ]
  },
  {
   "cell_type": "markdown",
   "metadata": {},
   "source": [
    "Be sure to set the aws key and secret as environment variables so that it is obfuscated"
   ]
  },
  {
   "cell_type": "code",
   "execution_count": 3,
   "metadata": {},
   "outputs": [],
   "source": [
    "AWS_KEY = os.environ['AWS_KEY']\n",
    "AWS_SECRET = os.environ['AWS_SECRET']"
   ]
  },
  {
   "cell_type": "markdown",
   "metadata": {},
   "source": [
    "Instantiate a resource client to interacte with dynamodb. "
   ]
  },
  {
   "cell_type": "code",
   "execution_count": 4,
   "metadata": {},
   "outputs": [],
   "source": [
    "db = boto3.resource(service_name='dynamodb',\n",
    "                    region_name='us-east-1',\n",
    "                    aws_access_key_id=AWS_KEY,\n",
    "                    aws_secret_access_key=AWS_SECRET)"
   ]
  },
  {
   "cell_type": "markdown",
   "metadata": {},
   "source": [
    "In dynamodb, there are no primary keys, foreign keys, etc like there are for SQL type databases. Instead, it is a NoSQL database which uses partitions and sort keys. The partition acts as a type of a primary key in that it must be unique. But more importantly, the data is \"partitioned\" into 10GB clusters based off of the partition keys. From there, the data is separated further by sort keys. You can read more about it if you're interested, here:\n",
    "\n",
    "* https://docs.aws.amazon.com/amazondynamodb/latest/developerguide/HowItWorks.CoreComponents.html\n",
    "\n",
    "* https://aws.amazon.com/blogs/database/choosing-the-right-dynamodb-partition-key/\n",
    "\n",
    "For our schema, I've made it so that the years are the partition key, and then the sort keys are a combination of \n",
    "\n",
    "$$ [month].[day].[uid]$$\n",
    "\n",
    "For example, a random article from January 20th, 2019 would be encoded like\n",
    "\n",
    "| partition key | sort key    |\n",
    "|---------------|-------------|\n",
    "| 2019          | 1.20.342320 |\n",
    "\n",
    "The [uid] part in the sort key comes from a sequentially generated number from the original dataset. The first row in the data was given the value of 0, the second row the value of 1, the 380th row the value of 379, etc etc. There was about 2.5 million rows of data, so the [uid] number in the sort key will be some number between 0 and 2.5 million. It really doesn't have an affect on anything however. All the queries in the backend are happening only dependent on the year and the first two values of the sort key. "
   ]
  },
  {
   "cell_type": "markdown",
   "metadata": {},
   "source": [
    "If you have a year and uid of interest and you just want to see what a query response looks like, there is a function that is imported from the dynamo module called **single_query** that takes in a year, uid, and the db object you instantiate at the beginning of this notebook"
   ]
  },
  {
   "cell_type": "code",
   "execution_count": 5,
   "metadata": {},
   "outputs": [],
   "source": [
    "#uid from Jan 9th, 2019\n",
    "sample_uid = '1.9.999730'"
   ]
  },
  {
   "cell_type": "code",
   "execution_count": 6,
   "metadata": {},
   "outputs": [],
   "source": [
    "bows, year, uid, file = single_query(year=2019, uid=sample_uid, dynamodb=db)"
   ]
  },
  {
   "cell_type": "markdown",
   "metadata": {},
   "source": [
    "The data is stored as individual items with, obviously, a partion of **\"year\"**, and sort of **\"uid\"**, but then each item has an attribute of **\"bows\"** or bag of words, and **\"file\"** which is the csv file which contains the entire original observation data in the S3 bucket it was written to after being processed by spark in the EMR cluster. "
   ]
  },
  {
   "cell_type": "code",
   "execution_count": 7,
   "metadata": {},
   "outputs": [
    {
     "data": {
      "text/plain": [
       "['nothing',\n",
       " 'awkward',\n",
       " 'handshake',\n",
       " 'hug',\n",
       " 'congratulate',\n",
       " 'someone',\n",
       " 'â',\n",
       " 'one',\n",
       " 'moment',\n",
       " 'play',\n",
       " 'right',\n",
       " 'stage',\n",
       " 'golden',\n",
       " 'globe',\n",
       " 'nicole',\n",
       " 'kidman',\n",
       " 'present',\n",
       " 'award',\n",
       " 'rami',\n",
       " 'malek',\n",
       " 'rest',\n",
       " 'cast',\n",
       " 'bohemian',\n",
       " 'rhapsody',\n",
       " 'malek',\n",
       " 'reach',\n",
       " 'thank',\n",
       " 'kidman',\n",
       " 'award',\n",
       " 'promptly',\n",
       " 'turn',\n",
       " 'back',\n",
       " 'much',\n",
       " 'leave',\n",
       " 'hangingâ',\n",
       " 'jimmy',\n",
       " 'kimmel',\n",
       " 'live',\n",
       " 'malek',\n",
       " 'visibly',\n",
       " 'cringe',\n",
       " 'watch',\n",
       " 'clip',\n",
       " 'moment',\n",
       " 'laugh',\n",
       " 'explain',\n",
       " 'fact',\n",
       " 'kidman',\n",
       " 'many',\n",
       " 'yearsâ',\n",
       " 'seth',\n",
       " 'meyers',\n",
       " 'brutally',\n",
       " 'outline',\n",
       " 'good',\n",
       " 'bad',\n",
       " 'case',\n",
       " 'scenario',\n",
       " 'democratic',\n",
       " 'candidate',\n",
       " 'stephen',\n",
       " 'colbert',\n",
       " 'bust',\n",
       " 'good',\n",
       " 'bon',\n",
       " 'jovi',\n",
       " 'impression',\n",
       " 'roast',\n",
       " 'democratic',\n",
       " 'candidate',\n",
       " 'hasan',\n",
       " 'minhajs',\n",
       " 'dad',\n",
       " 'hilariously',\n",
       " 'destroy',\n",
       " 'high',\n",
       " 'school',\n",
       " 'cheat',\n",
       " 'scandal',\n",
       " 'reason',\n",
       " 'drop',\n",
       " 'chill',\n",
       " 'season',\n",
       " 'trailer']"
      ]
     },
     "execution_count": 7,
     "metadata": {},
     "output_type": "execute_result"
    }
   ],
   "source": [
    "#bows\n",
    "bows"
   ]
  },
  {
   "cell_type": "code",
   "execution_count": 8,
   "metadata": {},
   "outputs": [
    {
     "name": "stdout",
     "output_type": "stream",
     "text": [
      "Year: 2019\n",
      "UID: 1.9.999730\n",
      "File: clean2/part-00023-b4b7a76c-5eee-4096-bb2b-80b5d3ce1306-c000.csv\n"
     ]
    }
   ],
   "source": [
    "print('Year: {}\\nUID: {}\\nFile: {}'.format(year, uid, file))"
   ]
  },
  {
   "cell_type": "markdown",
   "metadata": {},
   "source": [
    "You can go to the S3 bucket and download it if you wish to see all the other features about the item, such as author, publication, title, original article, etc.) Or you can simply enter the url for the file in your browser to download it. It is simply the url for the bucket + the filename. \n",
    "\n",
    "E.g. for the the file shown above, in order to download it, you would go to the url\n",
    "\n",
    "$$\\text{https://largedatabucket.s3.amazonaws.com/clean2/part-00010-b4b7a76c-5eee-4096-bb2b-80b5d3ce1306-c000.csv}$$"
   ]
  },
  {
   "cell_type": "markdown",
   "metadata": {},
   "source": [
    "Parallel Processing & Caching\n",
    "------------------------\n",
    "\n",
    "So since there's sooooo many data points, obviously we have to sample a certain amount of articles per month for a yearly analysis. I've also now added the capability to sample a certain amount of articles per day to perform a monthly analysis (How topics evovle over the course of the days in a month).\n",
    "\n",
    "However, before any of that can happen, I've designed the workflow such that for either a given month or a given year, which ever analysis you're trying to do, the algorithm will first query all the UIDs for the month or year and cache them on your local system. I did this as a cost savings workflow. Querying DynamoDB is not free, so in order to reduce the amount of queries, the UIDs are downloaded in entirety and then cached. Once this has happened once, you won't have to do this again. All algorithms will sample from the cached UIDs and then query the DB for only those items with respect to the sampled UIDs. If I didn't do this, the alternative would have been having to transmit all observations for a given month or a given year (on average each month has about 50,000 data points, and each year has on average 600,000 data points), then randomly sample the data which you want to use for the analysis. That would be very time consuming and rack up the charges.\n",
    "\n",
    "The implementation which gets and caches the UIDs, as well as sample local UIDs is a multiprocess (parallel) implementation. This means the execution of this task will utilize all the cores of your processor and spawn as many processes as possible in order to query / sample in parallel as opposed to an extremely slow single threaded implementation. Because of this, be sure to have minimal programs open on your computer when running analysis. It was a trade off in design and execution. In order to query thousands of data points in seconds, I'm trading off resources to do it. So it is resource intensive, but executes extremely fast.\n",
    "\n",
    "There's 3 different ways to get and cache the UIDs. The first is just invoking the caching function for a given year (demonstrated below). The other two methods involve just invoking the yearly or monthly analysis function (will demonstarte in a little bit). By design, the first step in those analysis checks for cached UIDs, if they don't detect any, they retrieve and cache the uids"
   ]
  },
  {
   "cell_type": "code",
   "execution_count": 9,
   "metadata": {},
   "outputs": [
    {
     "name": "stdout",
     "output_type": "stream",
     "text": [
      "Starting.....\n",
      "Creating process 1 to cache UIDs for month 1\n",
      "Creating process 2 to cache UIDs for month 2\n",
      "Checking for cached UIDs for 2017/1\n",
      "Cache found - loading from local\n",
      "Creating process 3 to cache UIDs for month 3\n",
      "Checking for cached UIDs for 2017/2\n",
      "Cache found - loading from local\n",
      "Creating process 4 to cache UIDs for month 4\n",
      "Checking for cached UIDs for 2017/3\n",
      "Creating process 5 to cache UIDs for month 5\n",
      "Checking for cached UIDs for 2017/4\n",
      "Cache found - loading from local\n",
      "Creating process 6 to cache UIDs for month 6\n",
      "Cache found - loading from local\n",
      "Creating process 7 to cache UIDs for month 7\n",
      "Checking for cached UIDs for 2017/5\n",
      "Cache found - loading from local\n",
      "Checking for cached UIDs for 2017/6\n",
      "Cache found - loading from local\n",
      "Creating process 8 to cache UIDs for month 8\n",
      "Creating process 9 to cache UIDs for month 9\n",
      "Checking for cached UIDs for 2017/7\n",
      "Cache found - loading from local\n",
      "Checking for cached UIDs for 2017/8\n",
      "Cache found - loading from local\n",
      "Creating process 10 to cache UIDs for month 10\n",
      "Checking for cached UIDs for 2017/9\n",
      "Cache found - loading from local\n",
      "Creating process 11 to cache UIDs for month 11\n",
      "Creating process 12 to cache UIDs for month 12\n",
      "joining process 0\n",
      "joining process 1\n",
      "joining process 2\n",
      "joining process 3\n",
      "joining process 4\n",
      "joining process 5\n",
      "joining process 6\n",
      "joining process 7\n",
      "joining process 8\n",
      "joining process 9\n",
      "Checking for cached UIDs for 2017/10\n",
      "Cache found - loading from local\n",
      "Checking for cached UIDs for 2017/11\n",
      "Cache found - loading from local\n",
      "joining process 10\n",
      "Checking for cached UIDs for 2017/12\n",
      "Cache found - loading from local\n",
      "joining process 11\n",
      "validating cache\n",
      "Done.\n"
     ]
    }
   ],
   "source": [
    "#pre-cache uids for the year 2017\n",
    "#if you don't want all the output, set verbose to False\n",
    "cache_uids_from_year(year=2017, dynamodb=db, throttled=False, verbose=True)"
   ]
  },
  {
   "cell_type": "markdown",
   "metadata": {},
   "source": [
    "-----------------\n",
    "\n",
    "If you want to see the UIDs for a given month, you can use the load_cached_uids function"
   ]
  },
  {
   "cell_type": "code",
   "execution_count": 10,
   "metadata": {},
   "outputs": [],
   "source": [
    "march_2017_uids = load_cached_uids(year=2017, month=3)"
   ]
  },
  {
   "cell_type": "code",
   "execution_count": 11,
   "metadata": {},
   "outputs": [
    {
     "name": "stdout",
     "output_type": "stream",
     "text": [
      "Total UIDs 2017-March:  51802\n",
      "First ten UIDs:\n",
      "['3.1.1000928' '3.1.1004276' '3.1.1004760' '3.1.1004950' '3.1.1005005'\n",
      " '3.1.1006231' '3.1.1006372' '3.1.100720' '3.1.1009826' '3.1.1011226']\n"
     ]
    }
   ],
   "source": [
    "print('Total UIDs 2017-March: ',len(march_2017_uids))\n",
    "print('First ten UIDs:\\n{}'.format(march_2017_uids[:10]))"
   ]
  },
  {
   "cell_type": "markdown",
   "metadata": {},
   "source": [
    "# Analysis For a Given Year\n",
    "\n",
    "\n",
    "If you want to sample N artcles per month and perform topic temporal extraction for a year, start off by using the bows_year function (bag of words sampled for a year). For the following example, I'm doing a small example by sampling only 10 articles per month. Since there's 10 articles and 12 months, the function should return 120 different bag of words from processed articles"
   ]
  },
  {
   "cell_type": "code",
   "execution_count": 12,
   "metadata": {},
   "outputs": [],
   "source": [
    "sample_size=10\n",
    "bows = bows_year(year=2017, sample_size=sample_size, dynamodb=db, throttled=False, verbose=False)"
   ]
  },
  {
   "cell_type": "code",
   "execution_count": 13,
   "metadata": {},
   "outputs": [
    {
     "name": "stdout",
     "output_type": "stream",
     "text": [
      "There should be 12 lists - 1 for each month:  12\n",
      "Num of BOWs for month 1: 10\n",
      "Num of BOWs for month 2: 10\n",
      "Num of BOWs for month 3: 10\n",
      "Num of BOWs for month 4: 10\n",
      "Num of BOWs for month 5: 10\n",
      "Num of BOWs for month 6: 10\n",
      "Num of BOWs for month 7: 10\n",
      "Num of BOWs for month 8: 10\n",
      "Num of BOWs for month 9: 10\n",
      "Num of BOWs for month 10: 10\n",
      "Num of BOWs for month 11: 10\n",
      "Num of BOWs for month 12: 10\n"
     ]
    }
   ],
   "source": [
    "print('There should be 12 lists - 1 for each month: ',len(bows))\n",
    "for pos, month in enumerate(bows):\n",
    "    print('Num of BOWs for month {}: {}'.format(pos+1,len(month)))"
   ]
  },
  {
   "cell_type": "markdown",
   "metadata": {
    "scrolled": true
   },
   "source": [
    "Next we need to vectorize the BOWs using TfidfVectorizer (or any vectorizer you wish to try). In order to do this, we need to transform each BOW from a list of words, to a single sting. So we need to go from a list of lists (12 lists containing 10 lists of BOWs) to a single list of 120 strings. We can then vectorize them using TfidfVectorizer"
   ]
  },
  {
   "cell_type": "code",
   "execution_count": 14,
   "metadata": {},
   "outputs": [],
   "source": [
    "words = [' '.join(y) for x in bows for y in x]"
   ]
  },
  {
   "cell_type": "code",
   "execution_count": 15,
   "metadata": {},
   "outputs": [],
   "source": [
    "vectorizer = TfidfVectorizer(max_features=10000)\n",
    "X = np.array(vectorizer.fit_transform(words).todense()).astype(np.float32)"
   ]
  },
  {
   "cell_type": "markdown",
   "metadata": {},
   "source": [
    "We then need to transform the now vectorized words into a tensor of dimensions [words] x [sampled articles] x [months]"
   ]
  },
  {
   "cell_type": "code",
   "execution_count": 16,
   "metadata": {},
   "outputs": [
    {
     "name": "stdout",
     "output_type": "stream",
     "text": [
      "(7433, 10, 12)\n"
     ]
    }
   ],
   "source": [
    "tensor = np.dstack([X[i*sample_size:(i+1)*sample_size] for i in range(12)]).transpose(1,0,2)\n",
    "print(tensor.shape)"
   ]
  },
  {
   "cell_type": "markdown",
   "metadata": {},
   "source": [
    "We can see, after vectorizing, it extracted 9034 unique words, and we still have 10 article samples for each of the 12 months, we then use the non_negative_parafac funtion to perform CP decomposition. Set the rank argument for however many topics you wish to extract. Since I sampled only 10 articles per month, I'll decompose for 5 topics"
   ]
  },
  {
   "cell_type": "code",
   "execution_count": 17,
   "metadata": {},
   "outputs": [],
   "source": [
    "w,f = non_negative_parafac(tensor=tl.tensor(tensor), rank=5, n_iter_max=10000)"
   ]
  },
  {
   "cell_type": "markdown",
   "metadata": {},
   "source": [
    "I've then create the helper functions to plot and printout the results"
   ]
  },
  {
   "cell_type": "code",
   "execution_count": 18,
   "metadata": {},
   "outputs": [
    {
     "data": {
      "image/png": "[encoded data removed]",
      "text/plain": [
       "<Figure size 1080x576 with 2 Axes>"
      ]
     },
     "metadata": {
      "needs_background": "light"
     },
     "output_type": "display_data"
    }
   ],
   "source": [
    "months = ['Jan', 'Feb', 'Mar', 'Apr', 'May', 'Jun', 'Jul', 'Aug', 'Sep', 'Oct', 'Nov', 'Dec']\n",
    "\n",
    "plotit(data=f[2], title='Topic Evolution Over Time - {}'.format(2017), yaxis=months, ylabel='Months', xlabel='Topics')"
   ]
  },
  {
   "cell_type": "code",
   "execution_count": 19,
   "metadata": {},
   "outputs": [
    {
     "data": {
      "image/png": "[encoded data removed]",
      "text/plain": [
       "<Figure size 1080x576 with 2 Axes>"
      ]
     },
     "metadata": {
      "needs_background": "light"
     },
     "output_type": "display_data"
    }
   ],
   "source": [
    "#visualize word importance per topic - should be mode-1 matrix\n",
    "plotit(data=f[0], title='Word Importance per Topic - {}'.format(2017), ylabel='Words', xlabel='Topics')"
   ]
  },
  {
   "cell_type": "code",
   "execution_count": 20,
   "metadata": {},
   "outputs": [
    {
     "name": "stdout",
     "output_type": "stream",
     "text": [
      "\n",
      "Topic 0: ['year' 'trump' 'time' 'state' 'report' 'president' 'percent' 'people'\n",
      " 'one' 'news' 'new' 'make' 'law' 'facebook' 'company']\n",
      "\n",
      "Topic 1: ['university' 'talk' 'science' 'satter' 'russian' 'russia' 'putin' 'po'\n",
      " 'paris' 'moscow' 'france' 'fear' 'ceris' 'cancel' 'buzzfeed' 'book']\n",
      "\n",
      "Topic 2: ['wedding' 'thomson' 'sourcebitlyloidu' 'share' 'sahara' 'reuter' 'pm'\n",
      " 'per' 'mets' 'iverson' 'ibes' 'hospitality' 'feb' 'drink' 'dividend'\n",
      " 'casino' 'baizas' 'baby' 'approve' 'agm']\n",
      "\n",
      "Topic 3: ['zurich' 'vontobel' 'tostnet' 'text' 'share' 'sfr' 'science' 'sanofi'\n",
      " 'reuter' 'repurchase' 'protein' 'outstanding' 'million' 'management'\n",
      " 'japanesegooglqrqev' 'headline' 'hain' 'golf' 'company' 'ceo' 'beijing'\n",
      " 'aug' 'acquisition']\n",
      "\n",
      "Topic 4: ['trade' 'rate' 'policy' 'peace' 'japan' 'export' 'eln' 'dollar'\n",
      " 'currency' 'abe']\n"
     ]
    }
   ],
   "source": [
    "#get the words for each topic\n",
    "words_per_topic = [get_topics(data=f[0][:,i], threshold=0.08, vectorizer=vectorizer) for i in range(5)]\n",
    "for pos, topic in enumerate(words_per_topic):\n",
    "    print('\\nTopic {}: {}'.format(pos, topic))"
   ]
  },
  {
   "cell_type": "markdown",
   "metadata": {},
   "source": [
    "# Analysis for a Given Month\n",
    "\n",
    "We can also perform temporal topic extraction for a single month since each month contains so many articles. The process is pretty much the same as above except for starting off with the bow_month function instead of year function. In this case I'll still sample 10 articles, but since there's 31 days in january (the month i'm performing the analysis on), the resulting list of lists should be 31 lists of length 10"
   ]
  },
  {
   "cell_type": "code",
   "execution_count": 21,
   "metadata": {},
   "outputs": [],
   "source": [
    "bows = bows_month(year=2017, month=1, sample_size=sample_size, dynamodb=db, throttled=False, verbose=False)"
   ]
  },
  {
   "cell_type": "code",
   "execution_count": 22,
   "metadata": {},
   "outputs": [
    {
     "name": "stdout",
     "output_type": "stream",
     "text": [
      "There should be 31 lists - 1 for each month:  31\n",
      "Num of BOWs for month 1: 10\n",
      "Num of BOWs for month 2: 10\n",
      "Num of BOWs for month 3: 10\n",
      "Num of BOWs for month 4: 10\n",
      "Num of BOWs for month 5: 10\n",
      "Num of BOWs for month 6: 10\n",
      "Num of BOWs for month 7: 10\n",
      "Num of BOWs for month 8: 10\n",
      "Num of BOWs for month 9: 10\n",
      "Num of BOWs for month 10: 10\n",
      "Num of BOWs for month 11: 10\n",
      "Num of BOWs for month 12: 10\n",
      "Num of BOWs for month 13: 10\n",
      "Num of BOWs for month 14: 10\n",
      "Num of BOWs for month 15: 10\n",
      "Num of BOWs for month 16: 10\n",
      "Num of BOWs for month 17: 10\n",
      "Num of BOWs for month 18: 10\n",
      "Num of BOWs for month 19: 10\n",
      "Num of BOWs for month 20: 10\n",
      "Num of BOWs for month 21: 10\n",
      "Num of BOWs for month 22: 10\n",
      "Num of BOWs for month 23: 10\n",
      "Num of BOWs for month 24: 10\n",
      "Num of BOWs for month 25: 10\n",
      "Num of BOWs for month 26: 10\n",
      "Num of BOWs for month 27: 10\n",
      "Num of BOWs for month 28: 10\n",
      "Num of BOWs for month 29: 10\n",
      "Num of BOWs for month 30: 10\n",
      "Num of BOWs for month 31: 10\n"
     ]
    }
   ],
   "source": [
    "print('There should be 31 lists - 1 for each month: ',len(bows))\n",
    "for pos, day in enumerate(bows):\n",
    "    print('Num of BOWs for month {}: {}'.format(pos+1,len(day)))"
   ]
  },
  {
   "cell_type": "code",
   "execution_count": 23,
   "metadata": {},
   "outputs": [
    {
     "name": "stdout",
     "output_type": "stream",
     "text": [
      "(10000, 10, 31)\n"
     ]
    }
   ],
   "source": [
    "words = [' '.join(y) for x in bows for y in x]\n",
    "\n",
    "vectorizer = TfidfVectorizer(max_features=10000)\n",
    "X = np.array(vectorizer.fit_transform(words).todense()).astype(np.float32)\n",
    "\n",
    "tensor = np.dstack([X[i*sample_size:(i+1)*sample_size] for i in range(31)]).transpose(1,0,2)\n",
    "print(tensor.shape)"
   ]
  },
  {
   "cell_type": "code",
   "execution_count": 24,
   "metadata": {},
   "outputs": [],
   "source": [
    "w,f = non_negative_parafac(tensor=tl.tensor(tensor), rank=5, n_iter_max=10000)"
   ]
  },
  {
   "cell_type": "code",
   "execution_count": 25,
   "metadata": {},
   "outputs": [
    {
     "data": {
      "image/png": "[encoded data removed]",
      "text/plain": [
       "<Figure size 1080x576 with 2 Axes>"
      ]
     },
     "metadata": {
      "needs_background": "light"
     },
     "output_type": "display_data"
    }
   ],
   "source": [
    "days = list(range(1,32))\n",
    "\n",
    "plotit(data=f[2], title='Topic Evolution Over Time - {}'.format('January 2017'), yaxis=days, ylabel='Days', xlabel='Topics')"
   ]
  },
  {
   "cell_type": "code",
   "execution_count": 26,
   "metadata": {},
   "outputs": [
    {
     "data": {
      "image/png": "[encoded data removed]",
      "text/plain": [
       "<Figure size 1080x576 with 2 Axes>"
      ]
     },
     "metadata": {
      "needs_background": "light"
     },
     "output_type": "display_data"
    }
   ],
   "source": [
    "#visualize word importance per topic - should be mode-1 matrix\n",
    "plotit(data=f[0], title='Word Importance per Topic - {}'.format('January 2017'), ylabel='Words', xlabel='Topics')"
   ]
  },
  {
   "cell_type": "code",
   "execution_count": 27,
   "metadata": {},
   "outputs": [
    {
     "name": "stdout",
     "output_type": "stream",
     "text": [
      "\n",
      "Topic 0: ['work' 'woman' 'white' 'washington' 'vote' 'university' 'united' 'two'\n",
      " 'twitter' 'trump' 'time' 'take' 'statement' 'state' 'saturday' 'right'\n",
      " 'refugee' 'president' 'potus' 'people' 'order' 'one' 'obama' 'news'\n",
      " 'national' 'nadal' 'march' 'many' 'make' 'look' 'inauguration'\n",
      " 'immigration' 'house' 'hill' 'game' 'friday' 'first' 'election' 'donald'\n",
      " 'day' 'crowd' 'country' 'band' 'back' 'american' 'america'\n",
      " 'administration' 'account']\n",
      "\n",
      "Topic 1: ['writer' 'world' 'unmask' 'spotlight' 'shyness' 'shy' 'public' 'pink'\n",
      " 'perform' 'narcissism' 'musician' 'moran' 'monroe' 'miller' 'media'\n",
      " 'floyd' 'feel' 'fame' 'escape' 'describe' 'cobain' 'christie' 'audience'\n",
      " 'attention' 'artist' 'art' 'anxiety' 'agatha' 'act']\n",
      "\n",
      "Topic 2: ['year' 'text' 'tell' 'take' 'show' 'reuter' 'report' 'price' 'percent'\n",
      " 'one' 'new' 'market' 'last' 'jan' 'high' 'company' 'billion' 'bank']\n",
      "\n",
      "Topic 3: ['washington' 'ward' 'view' 'trump' 'thread' 'survive' 'suite'\n",
      " 'subsidiary' 'street' 'spd' 'site' 'signature' 'publish' 'portrait'\n",
      " 'news' 'holliday' 'hill' 'discussion' 'dc' 'corp' 'content'\n",
      " 'communication' 'coalition' 'capitol' 'abc']\n",
      "\n",
      "Topic 4: ['write' 'work' 'voice' 'time' 'story' 'start' 'one' 'news' 'new' 'make'\n",
      " 'job' 'hoffman' 'google' 'feel' 'book' 'app']\n"
     ]
    }
   ],
   "source": [
    "#get the words for each topic\n",
    "words_per_topic = [get_topics(data=f[0][:,i], threshold=0.08, vectorizer=vectorizer) for i in range(5)]\n",
    "for pos, topic in enumerate(words_per_topic):\n",
    "    print('\\nTopic {}: {}'.format(pos, topic))"
   ]
  },
  {
   "cell_type": "code",
   "execution_count": null,
   "metadata": {},
   "outputs": [],
   "source": []
  }
 ],
 "metadata": {
  "kernelspec": {
   "display_name": "Python 3",
   "language": "python",
   "name": "python3"
  },
  "language_info": {
   "codemirror_mode": {
    "name": "ipython",
    "version": 3
   },
   "file_extension": ".py",
   "mimetype": "text/x-python",
   "name": "python",
   "nbconvert_exporter": "python",
   "pygments_lexer": "ipython3",
   "version": "3.7.4"
  }
 },
 "nbformat": 4,
 "nbformat_minor": 2
}
