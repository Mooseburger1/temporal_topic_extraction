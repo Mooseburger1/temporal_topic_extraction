{
 "cells": [
  {
   "cell_type": "code",
   "execution_count": 1,
   "metadata": {},
   "outputs": [],
   "source": [
    "import pandas as pd\n",
    "import numpy as np\n",
    "import os\n",
    "import sys\n",
    "import boto3\n",
    "from dynamo import *\n",
    "from utils import *\n",
    "import time"
   ]
  },
  {
   "cell_type": "code",
   "execution_count": 2,
   "metadata": {},
   "outputs": [],
   "source": [
    "AWS_KEY = os.environ['AWS_KEY']\n",
    "AWS_SECRET = os.environ['AWS_SECRET']"
   ]
  },
  {
   "cell_type": "code",
   "execution_count": 3,
   "metadata": {},
   "outputs": [],
   "source": [
    "db = boto3.resource(service_name='dynamodb',\n",
    "                    region_name='us-east-1',\n",
    "                    aws_access_key_id=AWS_KEY,\n",
    "                    aws_secret_access_key=AWS_SECRET)"
   ]
  },
  {
   "cell_type": "code",
   "execution_count": 4,
   "metadata": {
    "scrolled": true
   },
   "outputs": [
    {
     "name": "stdout",
     "output_type": "stream",
     "text": [
      "Creating process 1 to sample UIDs for month 1\n",
      "Creating process 2 to sample UIDs for month 2\n",
      "Checking for cached UIDs for 2020/1\n",
      "Creating process 3 to sample UIDs for month 3\n",
      "Cache found - loading from local\n",
      "Creating process 4 to sample UIDs for month 4\n",
      "Checking for cached UIDs for 2020/2\n",
      "Cache found - loading from local\n",
      "Checking for cached UIDs for 2020/3\n",
      "Creating process 5 to sample UIDs for month 5\n",
      "Cache found - loading from local\n",
      "Checking for cached UIDs for 2020/4\n",
      "Creating process 6 to sample UIDs for month 6\n",
      "Cache found - loading from local\n",
      "Checking for cached UIDs for 2020/5\n",
      "No cached UIDs found for 2020/5 - Pulling from dynamodb........This may take a few moments\n",
      "Creating process 7 to sample UIDs for month 7\n",
      "Creating process 8 to sample UIDs for month 8\n",
      "Checking for cached UIDs for 2020/6\n",
      "Checking for cached UIDs for 2020/7\n",
      "No cached UIDs found for 2020/6 - Pulling from dynamodb........This may take a few moments\n",
      "No cached UIDs found for 2020/7 - Pulling from dynamodb........This may take a few moments\n",
      "Creating process 9 to sample UIDs for month 9\n",
      "Creating process 10 to sample UIDs for month 10\n",
      "Creating process 11 to sample UIDs for month 11\n",
      "Creating process 12 to sample UIDs for month 12\n",
      "Checking for cached UIDs for 2020/9\n",
      "Checking for cached UIDs for 2020/8\n",
      "No cached UIDs found for 2020/9 - Pulling from dynamodb........This may take a few moments\n",
      "No cached UIDs found for 2020/8 - Pulling from dynamodb........This may take a few moments\n",
      "Checking for cached UIDs for 2020/10\n",
      "No cached UIDs found for 2020/10 - Pulling from dynamodb........This may take a few moments\n",
      "Checking for cached UIDs for 2020/11\n",
      "Checking for cached UIDs for 2020/12\n",
      "No cached UIDs found for 2020/12 - Pulling from dynamodb........This may take a few moments\n",
      "No cached UIDs found for 2020/11 - Pulling from dynamodb........This may take a few moments\n",
      "Getting sampled UIDs from process 0\n",
      "Getting sampled UIDs from process 1\n",
      "Getting sampled UIDs from process 2\n",
      "Getting sampled UIDs from process 3\n",
      "Getting sampled UIDs from process 4\n",
      "Caching 0 UIDs for 2020/6\n",
      "Caching 0 UIDs for 2020/7\n",
      "Caching 0 UIDs for 2020/5\n",
      "Caching 0 UIDs for 2020/9\n",
      "Caching 0 UIDs for 2020/10\n",
      "Caching 0 UIDs for 2020/8\n",
      "Caching 0 UIDs for 2020/11\n",
      "Caching 0 UIDs for 2020/12\n",
      "Getting sampled UIDs from process 5\n",
      "Getting sampled UIDs from process 6\n",
      "Getting sampled UIDs from process 7\n",
      "Getting sampled UIDs from process 8\n",
      "Getting sampled UIDs from process 9\n",
      "Getting sampled UIDs from process 10\n",
      "Getting sampled UIDs from process 11\n"
     ]
    }
   ],
   "source": [
    "\n",
    "bows = temporal_topic_extraction(2020, 20, db, throttled=False)\n"
   ]
  },
  {
   "cell_type": "code",
   "execution_count": 5,
   "metadata": {},
   "outputs": [
    {
     "data": {
      "text/plain": [
       "array([['1.2588196', '1.2571846', '1.2587501', '1.2553508', '1.2605412',\n",
       "        '1.2605262', '1.2569187', '1.2549806', '1.2582500', '1.2583114',\n",
       "        '1.2595540', '1.2583528', '1.2613721', '1.2571515', '1.2597181',\n",
       "        '1.2595734', '1.2612563', '1.2621585', '1.2627981', '1.2629964'],\n",
       "       ['2.2679782', '2.2681941', '2.2666525', '2.2669258', '2.2685791',\n",
       "        '2.2634575', '2.2695808', '2.2685530', '2.2655490', '2.2670671',\n",
       "        '2.2645421', '2.2621643', '2.2643221', '2.2641373', '2.2646565',\n",
       "        '2.2672102', '2.2648034', '2.2631349', '2.2678628', '2.2661132'],\n",
       "       ['3.2729835', '3.2723662', '3.2739262', '3.2722797', '3.2728858',\n",
       "        '3.2776561', '3.2728101', '3.2717337', '3.2707567', '3.2773183',\n",
       "        '3.2750106', '3.2708778', '3.2786309', '3.2777138', '3.2777899',\n",
       "        '3.2742905', '3.2715483', '3.2729890', '3.2720457', '3.2736541']],\n",
       "      dtype='<U9')"
      ]
     },
     "execution_count": 5,
     "metadata": {},
     "output_type": "execute_result"
    }
   ],
   "source": [
    "bows"
   ]
  },
  {
   "cell_type": "code",
   "execution_count": null,
   "metadata": {},
   "outputs": [],
   "source": [
    "query_uid_set(2020, bows[0], db, single_thread=True)"
   ]
  }
 ],
 "metadata": {
  "kernelspec": {
   "display_name": "Python 3",
   "language": "python",
   "name": "python3"
  },
  "language_info": {
   "codemirror_mode": {
    "name": "ipython",
    "version": 3
   },
   "file_extension": ".py",
   "mimetype": "text/x-python",
   "name": "python",
   "nbconvert_exporter": "python",
   "pygments_lexer": "ipython3",
   "version": "3.7.4"
  }
 },
 "nbformat": 4,
 "nbformat_minor": 2
}
