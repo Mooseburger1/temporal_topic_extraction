{
 "cells": [
  {
   "cell_type": "code",
   "execution_count": 1,
   "metadata": {},
   "outputs": [
    {
     "data": {
      "text/html": [
       "<style>.container { width:100% !important; }</style>"
      ],
      "text/plain": [
       "<IPython.core.display.HTML object>"
      ]
     },
     "metadata": {},
     "output_type": "display_data"
    }
   ],
   "source": [
    "from IPython.core.display import display, HTML\n",
    "display(HTML(\"<style>.container { width:100% !important; }</style>\"))"
   ]
  },
  {
   "cell_type": "code",
   "execution_count": 2,
   "metadata": {},
   "outputs": [
    {
     "data": {
      "text/html": [
       "\n",
       "            <div>\n",
       "                <p><b>SparkSession - hive</b></p>\n",
       "                \n",
       "        <div>\n",
       "            <p><b>SparkContext</b></p>\n",
       "\n",
       "            <p><a href=\"http://ip-172-31-20-90.ec2.internal:4040\">Spark UI</a></p>\n",
       "\n",
       "            <dl>\n",
       "              <dt>Version</dt>\n",
       "                <dd><code>v2.4.6-amzn-0</code></dd>\n",
       "              <dt>Master</dt>\n",
       "                <dd><code>yarn</code></dd>\n",
       "              <dt>AppName</dt>\n",
       "                <dd><code>PySparkShell</code></dd>\n",
       "            </dl>\n",
       "        </div>\n",
       "        \n",
       "            </div>\n",
       "        "
      ],
      "text/plain": [
       "<pyspark.sql.session.SparkSession at 0x7f43d5f43310>"
      ]
     },
     "execution_count": 2,
     "metadata": {},
     "output_type": "execute_result"
    }
   ],
   "source": [
    "import sparknlp\n",
    "sparknlp.start()"
   ]
  },
  {
   "cell_type": "code",
   "execution_count": 3,
   "metadata": {},
   "outputs": [],
   "source": [
    "from sparknlp.base import Finisher, DocumentAssembler\n",
    "from sparknlp.annotator import (Tokenizer, Normalizer,\n",
    "                                LemmatizerModel, StopWordsCleaner)\n",
    "from pyspark.ml import Pipeline\n",
    "from pyspark.sql.types import *\n",
    "from pyspark.sql.functions import concat, col, lit, spark_partition_id, count\n"
   ]
  },
  {
   "cell_type": "code",
   "execution_count": 4,
   "metadata": {},
   "outputs": [],
   "source": [
    "#s3 bucket location of the csv file\n",
    "input_path = 's3://largedatabucket/*.csv'"
   ]
  },
  {
   "cell_type": "code",
   "execution_count": 5,
   "metadata": {},
   "outputs": [],
   "source": [
    "#Manually set the schema for the csv file instead of inferring\n",
    "schema = StructType([\n",
    "    StructField(\"_c0\", IntegerType()),\n",
    "    StructField(\"Unnamed: 0\", IntegerType()),\n",
    "    StructField(\"date\", DateType()),\n",
    "    StructField(\"year\", IntegerType()),\n",
    "    StructField(\"month\", FloatType()),\n",
    "    StructField(\"day\", IntegerType()),\n",
    "    StructField(\"author\", StringType()),\n",
    "    StructField(\"title\", StringType()),\n",
    "    StructField(\"article\", StringType()),\n",
    "    StructField(\"url\", StringType()),\n",
    "    StructField(\"section\", StringType()),\n",
    "    StructField(\"publication\", StringType()),\n",
    "])"
   ]
  },
  {
   "cell_type": "code",
   "execution_count": 6,
   "metadata": {},
   "outputs": [],
   "source": [
    "df = spark.read.option(\"quote\", \"\\\"\").option(\"escape\", \"\\\"\").option(\"encoding\", \"UTF-8\").csv(input_path, schema=schema, header='true').withColumnRenamed(\"Unnamed: 0\",\"uid\")"
   ]
  },
  {
   "cell_type": "code",
   "execution_count": 7,
   "metadata": {},
   "outputs": [
    {
     "name": "stdout",
     "output_type": "stream",
     "text": [
      "+----+----+----------+----+-----+----+-----------------+--------------------+--------------------+--------------------+----------+-----------+\n",
      "| _c0| uid|      date|year|month| day|           author|               title|             article|                 url|   section|publication|\n",
      "+----+----+----------+----+-----+----+-----------------+--------------------+--------------------+--------------------+----------+-----------+\n",
      "|   0|   0|2016-12-09|2016| 12.0|   9|      Lee Drutman|We should take co...|This post is part...|https://www.vox.c...|      null|        Vox|\n",
      "|   1|   1|2016-10-07|2016| 10.0|   7|      Scott Davis|Colts GM Ryan Gri...| The Indianapolis...|                null|      null|       null|\n",
      "|null|null|      null|null| null|null|             null|                null|                null|                null|      null|       null|\n",
      "|   2|   2|2018-01-26|2018|  1.0|  26|             null|Trump denies repo...|DAVOS, Switzerlan...|https://www.reute...|     Davos|    Reuters|\n",
      "|   3|   3|2019-06-27|2019|  6.0|  27|             null|France's Sarkozy ...|PARIS (Reuters) -...|https://www.reute...|World News|    Reuters|\n",
      "|   4|   4|2016-01-27|2016|  1.0|  27|             null|Paris Hilton: Wom...|Paris Hilton arri...|https://www.tmz.c...|      null|        TMZ|\n",
      "|   5|   5|2019-06-17|2019|  6.0|  17|             null|ECB's Coeure: If ...|BERLIN, June 17 (...|                null|      null|       null|\n",
      "|null|null|      null|null| null|null|             null|                null|                null|                null|      null|       null|\n",
      "|   6|   6|2019-06-23|2019|  6.0|  23|             null|Venezuela detains...|CARACAS (Reuters)...|https://www.reute...|World News|    Reuters|\n",
      "|   7|   7|2018-05-02|2018|  5.0|   2|Caroline Williams|You Can Trick You...|If only every day...|https://www.vice....|    Health|       Vice|\n",
      "+----+----+----------+----+-----+----+-----------------+--------------------+--------------------+--------------------+----------+-----------+\n",
      "only showing top 10 rows\n",
      "\n"
     ]
    }
   ],
   "source": [
    "df.show(10)"
   ]
  },
  {
   "cell_type": "code",
   "execution_count": 8,
   "metadata": {},
   "outputs": [
    {
     "data": {
      "text/plain": [
       "3858240"
      ]
     },
     "execution_count": 8,
     "metadata": {},
     "output_type": "execute_result"
    }
   ],
   "source": [
    "df.count()"
   ]
  },
  {
   "cell_type": "code",
   "execution_count": 9,
   "metadata": {},
   "outputs": [],
   "source": [
    "#create a temp table to query and clean\n",
    "df.createOrReplaceTempView('articles')"
   ]
  },
  {
   "cell_type": "code",
   "execution_count": 10,
   "metadata": {},
   "outputs": [],
   "source": [
    "#select data that only has actual articles\n",
    "df = spark.sql('''SELECT uid,\n",
    "                         date,\n",
    "                         year,\n",
    "                         month,\n",
    "                         day,\n",
    "                         author,\n",
    "                         title,\n",
    "                         article,\n",
    "                         url,\n",
    "                         publication\n",
    "                   FROM articles \n",
    "                   WHERE article IS NOT NULL''')\n",
    "\n",
    "#fill in missing information\n",
    "df = df.fillna({'date':'1970-01-01 00:00:00',\n",
    "                'year':1970,\n",
    "                'month':1.0,\n",
    "                'day':1.0,\n",
    "                'author':'missing',\n",
    "                'title':'missing',\n",
    "                'url':'missing',\n",
    "                'publication':'missing'})"
   ]
  },
  {
   "cell_type": "code",
   "execution_count": 11,
   "metadata": {},
   "outputs": [],
   "source": [
    "df.createOrReplaceTempView('articles')"
   ]
  },
  {
   "cell_type": "code",
   "execution_count": 12,
   "metadata": {},
   "outputs": [],
   "source": [
    "#get only data existing in the 2000s\n",
    "df = spark.sql('''\n",
    "                    SELECT *\n",
    "                    FROM articles\n",
    "                    WHERE year >= 2000\n",
    "                    AND year <2021\n",
    "\n",
    "               ''')"
   ]
  },
  {
   "cell_type": "code",
   "execution_count": 13,
   "metadata": {},
   "outputs": [
    {
     "name": "stdout",
     "output_type": "stream",
     "text": [
      "Total Articles:  2581694\n"
     ]
    }
   ],
   "source": [
    "print('Total Articles: ', df.count())"
   ]
  },
  {
   "cell_type": "code",
   "execution_count": 14,
   "metadata": {},
   "outputs": [
    {
     "name": "stdout",
     "output_type": "stream",
     "text": [
      "+---+----------+----+-----+---+-----------------+--------------------+--------------------+--------------------+-----------+\n",
      "|uid|      date|year|month|day|           author|               title|             article|                 url|publication|\n",
      "+---+----------+----+-----+---+-----------------+--------------------+--------------------+--------------------+-----------+\n",
      "|  0|2016-12-09|2016| 12.0|  9|      Lee Drutman|We should take co...|This post is part...|https://www.vox.c...|        Vox|\n",
      "|  1|2016-10-07|2016| 10.0|  7|      Scott Davis|Colts GM Ryan Gri...| The Indianapolis...|             missing|    missing|\n",
      "|  2|2018-01-26|2018|  1.0| 26|          missing|Trump denies repo...|DAVOS, Switzerlan...|https://www.reute...|    Reuters|\n",
      "|  3|2019-06-27|2019|  6.0| 27|          missing|France's Sarkozy ...|PARIS (Reuters) -...|https://www.reute...|    Reuters|\n",
      "|  4|2016-01-27|2016|  1.0| 27|          missing|Paris Hilton: Wom...|Paris Hilton arri...|https://www.tmz.c...|        TMZ|\n",
      "|  5|2019-06-17|2019|  6.0| 17|          missing|ECB's Coeure: If ...|BERLIN, June 17 (...|             missing|    missing|\n",
      "|  6|2019-06-23|2019|  6.0| 23|          missing|Venezuela detains...|CARACAS (Reuters)...|https://www.reute...|    Reuters|\n",
      "|  7|2018-05-02|2018|  5.0|  2|Caroline Williams|You Can Trick You...|If only every day...|https://www.vice....|       Vice|\n",
      "|  8|2016-05-18|2016|  5.0| 18|      Mark Bergen|How to watch the ...|Google I/O, the c...|https://www.vox.c...|        Vox|\n",
      "|  9|2017-03-02|2017|  3.0|  2|         Tim Hume|China is dismissi...|China is dismissi...|https://news.vice...|  Vice News|\n",
      "+---+----------+----+-----+---+-----------------+--------------------+--------------------+--------------------+-----------+\n",
      "only showing top 10 rows\n",
      "\n"
     ]
    }
   ],
   "source": [
    "df.show(10)"
   ]
  },
  {
   "cell_type": "code",
   "execution_count": 15,
   "metadata": {},
   "outputs": [],
   "source": [
    "#set manual stop words from NLTK stopwords\n",
    "stopwords = ['a','about','above','after','again','against','ain','all','also','am','an','and','any','are','aren',\"aren't\",'as','at','be','because','been','before','being','below','between','both','breitbart','but',\n",
    " 'by','can','cnn','could','couldn',\"couldn't\",'d','dent','did','didn',\"didn't\",'didnt','do','does','doesn',\"doesn't\",'doing','don',\"don't\",'dont','down','during','each','edu','few','for','fox','from',\n",
    " 'further','get','go','going','had','hadn',\"hadn't\",'has','hasn',\"hasn't\",'have','haven',\"haven't\",'having','he','her','here','hers','herself','him','himself','his','how','i','if','in','into','is','isn',\n",
    " \"isn't\",'it',\"it's\",'its','itself','just','kind','like','ll','m','ma','maybe','me','mightn',\"mightn't\",'more','most','mustn',\"mustn't\",'my','myself','needn',\"needn't\",'no','nor','not','now','o','of',\n",
    " 'off','on','once','only','or','other','our','ours','ourselves','out','over','own','re','s','said','same','say','says','shan',\"shan't\",'she',\"she's\",'should',\"should've\",'shouldn',\"shouldn't\",'so','some',\n",
    " 'still','subject','such','t','than','that',\"that'll\",'thats','the','their','theirs','them','themselves','then','there','theres','these','they','thing','things','think','this','those','through','to','too',\n",
    " 'u','under','until','up','use','ve','very','wanted','was','wasn',\"wasn't\",'way','we','went','were','weren',\"weren't\",'what','when','where','which','while','who','whom','why','will','with','won',\"won't\",'would',\n",
    " 'wouldn',\"wouldn't\",'y','you',\"you'd\",\"you'll\",\"you're\",\"you've\",'your','yours','yourself','yourselves']"
   ]
  },
  {
   "cell_type": "code",
   "execution_count": 16,
   "metadata": {},
   "outputs": [
    {
     "name": "stdout",
     "output_type": "stream",
     "text": [
      "lemma_antbnc download started this may take some time.\n",
      "Approximate size to download 907.6 KB\n",
      "[OK!]\n"
     ]
    }
   ],
   "source": [
    "#parse all the articles in the 'article' column\n",
    "#have it output to a new column called document\n",
    "documentAssembler = DocumentAssembler() \\\n",
    "     .setInputCol('article') \\\n",
    "     .setOutputCol('document')\n",
    "\n",
    "#parse the document column and tokenize the text\n",
    "#output to a new column called 'token'\n",
    "tokenizer = Tokenizer() \\\n",
    "     .setInputCols(['document']) \\\n",
    "     .setOutputCol('token')\n",
    "\n",
    "#Remove punctuation, numbers, and symbols from text from tokens\n",
    "#output to a new column called 'normalized'\n",
    "normalizer = Normalizer() \\\n",
    "     .setInputCols(['token']) \\\n",
    "     .setOutputCol('normalized') \\\n",
    "     .setLowercase(True)\n",
    "\n",
    "#get the root of each word by performing lemmatization\n",
    "#output to a new column called lemma\n",
    "lemmatizer = LemmatizerModel.pretrained() \\\n",
    "     .setInputCols(['normalized']) \\\n",
    "     .setOutputCol('lemma')\n",
    "\n",
    "#remove all stopwords from lemma column\n",
    "#ouptut to a new column called 'clean_lemma'\n",
    "stopwords_cleaner = StopWordsCleaner() \\\n",
    "     .setInputCols(['lemma']) \\\n",
    "     .setOutputCol('clean_lemma') \\\n",
    "     .setCaseSensitive(False) \\\n",
    "     .setStopWords(stopwords)\n",
    "\n",
    "# finisher converts tokens to human-readable output\n",
    "finisher = Finisher() \\\n",
    "     .setInputCols(['clean_lemma']) \\\n",
    "     .setCleanAnnotations(False)"
   ]
  },
  {
   "cell_type": "code",
   "execution_count": 17,
   "metadata": {},
   "outputs": [],
   "source": [
    "pipeline = Pipeline() \\\n",
    "     .setStages([\n",
    "           documentAssembler,\n",
    "           tokenizer,\n",
    "           normalizer,\n",
    "           lemmatizer,\n",
    "           stopwords_cleaner,\n",
    "           finisher\n",
    "     ])"
   ]
  },
  {
   "cell_type": "code",
   "execution_count": 18,
   "metadata": {},
   "outputs": [],
   "source": [
    "pipe = pipeline.fit(df)"
   ]
  },
  {
   "cell_type": "code",
   "execution_count": 19,
   "metadata": {},
   "outputs": [],
   "source": [
    "clean = pipe.transform(df)"
   ]
  },
  {
   "cell_type": "code",
   "execution_count": 20,
   "metadata": {},
   "outputs": [],
   "source": [
    "#convert the final column to all strings so it can be written to CSV\n",
    "clean = clean.withColumn(\"bow\", clean[\"finished_clean_lemma\"].cast(StringType()))"
   ]
  },
  {
   "cell_type": "code",
   "execution_count": 21,
   "metadata": {},
   "outputs": [],
   "source": [
    "#select only the columns we care about\n",
    "results = clean.select('uid',\n",
    "                       'date',\n",
    "                       'year',\n",
    "                       'month',\n",
    "                       'day',\n",
    "                       'author',\n",
    "                       'title',\n",
    "                       'article',\n",
    "                       'publication',\n",
    "                       'bow'\n",
    ")"
   ]
  },
  {
   "cell_type": "code",
   "execution_count": 22,
   "metadata": {},
   "outputs": [],
   "source": [
    "results = results.withColumn('month', results['month'].cast(IntegerType())).withColumn('uid', concat(col(\"month\"), lit(\".\"), col(\"uid\")) )"
   ]
  },
  {
   "cell_type": "code",
   "execution_count": 23,
   "metadata": {},
   "outputs": [
    {
     "name": "stdout",
     "output_type": "stream",
     "text": [
      "+-----+----------+----+-----+---+--------------------+--------------------+--------------------+----------------+--------------------+\n",
      "|  uid|      date|year|month|day|              author|               title|             article|     publication|                 bow|\n",
      "+-----+----------+----+-----+---+--------------------+--------------------+--------------------+----------------+--------------------+\n",
      "| 12.0|2016-12-09|2016|   12|  9|         Lee Drutman|We should take co...|This post is part...|             Vox|[post, part, poly...|\n",
      "| 10.1|2016-10-07|2016|   10|  7|         Scott Davis|Colts GM Ryan Gri...| The Indianapolis...|         missing|[indianapolis, co...|\n",
      "|  1.2|2018-01-26|2018|    1| 26|             missing|Trump denies repo...|DAVOS, Switzerlan...|         Reuters|[davos, switzerla...|\n",
      "|  6.3|2019-06-27|2019|    6| 27|             missing|France's Sarkozy ...|PARIS (Reuters) -...|         Reuters|[paris, reuter, f...|\n",
      "|  1.4|2016-01-27|2016|    1| 27|             missing|Paris Hilton: Wom...|Paris Hilton arri...|             TMZ|[paris, hilton, a...|\n",
      "|  6.5|2019-06-17|2019|    6| 17|             missing|ECB's Coeure: If ...|BERLIN, June 17 (...|         missing|[berlin, june, re...|\n",
      "|  6.6|2019-06-23|2019|    6| 23|             missing|Venezuela detains...|CARACAS (Reuters)...|         Reuters|[caracas, reuter,...|\n",
      "|  5.7|2018-05-02|2018|    5|  2|   Caroline Williams|You Can Trick You...|If only every day...|            Vice|[every, day, cant...|\n",
      "|  5.8|2016-05-18|2016|    5| 18|         Mark Bergen|How to watch the ...|Google I/O, the c...|             Vox|[google, io, comp...|\n",
      "|  3.9|2017-03-02|2017|    3|  2|            Tim Hume|China is dismissi...|China is dismissi...|       Vice News|[china, dismiss, ...|\n",
      "| 5.10|2019-05-22|2019|    5| 22|       Emily Stewart|“Elizabeth Warren...|Elizabeth Warren ...|             Vox|[elizabeth, warre...|\n",
      "| 6.11|2019-06-23|2019|    6| 23|Jessica DiNapoli,...|Hudson's Bay's ch...|(Reuters) - The s...|         Reuters|[reuter, success,...|\n",
      "|11.12|2018-11-05|2018|   11|  5|             missing|Joakim Noah's Vic...|Joakim Noah's ﻿mo...|             TMZ|[joakim, noahs, m...|\n",
      "| 5.13|2019-05-10|2019|    5| 10|             missing|Jermaine Jackson ...|Jermaine Jackson ...|             TMZ|[jermaine, jackso...|\n",
      "| 3.14|2019-03-28|2019|    3| 28|             missing|UK PM May presses...|LONDON (Reuters) ...|         Reuters|[london, reuter, ...|\n",
      "| 9.15|2016-09-08|2016|    9|  8|          Jeff Stein|Nancy Pelosi says...|Nancy Pelosi is g...|             Vox|[nancy, pelosi, v...|\n",
      "| 1.16|2017-01-11|2017|    1| 11|        Libby Nelson|The government of...|The nonpartisan d...|             Vox|[nonpartisan, dir...|\n",
      "| 1.17|2019-01-26|2019|    1| 26|         Kurt Wagner|Mark Zuckerberg’s...|The threat of gov...|             Vox|[threat, governme...|\n",
      "| 6.18|2017-06-19|2017|    6| 19|          Linda Yang|Girl Scouts Are T...| In the past, Gir...|            Vice|[past, girl, scou...|\n",
      "| 1.19|2019-01-30|2019|    1| 30|Christopher Lee Inoa|An Animated Maste...|Before 2016, Isao...|   Hyperallergic|[isao, takahatas,...|\n",
      "| 7.20|2018-07-12|2018|    7| 12|             missing|Trump warned NATO...|BRUSSELS (Reuters...|         Reuters|[brussels, reuter...|\n",
      "|11.21|2018-11-19|2018|   11| 19|         Umair Irfan|Paradise, Califor...|PARADISE, CALIFOR...|             Vox|[paradise, califo...|\n",
      "|12.22|2018-12-28|2018|   12| 28|         Imani Moise|Wells Fargo to pa...|NEW YORK (Reuters...|         Reuters|[new, york, reute...|\n",
      "| 5.23|2018-05-17|2018|    5| 17|        Paige Mehrer|'Bendy Bone,' Tod...|  Check out more ...|            Vice|[check, paige, me...|\n",
      "| 5.24|2019-05-21|2019|    5| 21|             missing|Factbox: Investme...|(Reuters) - Major...|         Reuters|[reuter, major, a...|\n",
      "| 7.25|2016-07-21|2016|    7| 21|       Rachel Browne| Teen prisoners r...|A six-hour riot t...|       Vice News|[sixhour, riot, s...|\n",
      "| 2.26|2017-02-26|2017|    2| 26|             missing|Video of Deontay ...|Deontay Wilder wa...|             TMZ|[deontay, wild, r...|\n",
      "| 2.27|2019-02-05|2019|    2|  5|Andrew MacAskill,...|Exclusive: Britai...|LONDON (Reuters) ...|         Reuters|[london, reuter, ...|\n",
      "|12.28|2016-12-18|2016|   12| 18|        Kevin Trahan|Nebraska Is Proba...|Just over two yea...|            Vice|[two, year, ago, ...|\n",
      "|11.29|2018-11-24|2018|   11| 24|Nandita Bose, Mel...|On Black Friday, ...|NEW YORK (Reuters...|         Reuters|[new, york, reute...|\n",
      "| 5.30|2019-05-26|2019|    5| 26|             missing|Libya's Haftar ru...|PARIS (Reuters) -...|         Reuters|[paris, reuter, l...|\n",
      "| 6.31|2017-06-22|2017|    6| 22|            Jeff Guo|Republicans total...|The long-awaited ...|             Vox|[longawaited, sen...|\n",
      "| 6.32|2019-06-11|2019|    6| 11|             missing|Kylie Jenner and ...|Kylie Jenner's dr...|             TMZ|[kylie, jenners, ...|\n",
      "| 7.33|2019-07-02|2019|    7|  2|Nick Carey, Ankit...|U.S. June sales a...|(Reuters) - Major...|         Reuters|[reuter, major, a...|\n",
      "|10.34|2016-10-04|2016|   10|  4|           Dara Lind|The most revealin...|The Republican Pa...|             Vox|[republican, part...|\n",
      "|10.35|2018-10-31|2018|   10| 31|        Nadra Nittle|Proud Boy John Ki...|When John Kinsman...|             Vox|[john, kinsman, p...|\n",
      "| 7.36|2017-07-05|2017|    7|  5|      Kamila Rymajdo|This Small City i...|This post appeare...|            Vice|[post, appear, or...|\n",
      "| 6.37|2019-06-27|2019|    6| 27|    David Shepardson|FCC probes whethe...|WASHINGTON (Reute...|         Reuters|[washington, reut...|\n",
      "|11.38|2017-11-30|2017|   11| 30|          David Saad|Forget Facebook, ...|Facebook, Amazon,...|             Vox|[facebook, amazon...|\n",
      "| 5.39|2016-05-19|2016|    5| 19|    Dawn Chmielewski|Facebook tells co...|Facebook told a g...|             Vox|[facebook, tell, ...|\n",
      "|10.41|2018-10-05|2018|   10|  5|    Caroline Haskins|Trash Geyser Spew...| Geyser eruptions...|            Vice|[geyser, eruption...|\n",
      "| 6.42|2017-06-30|2017|    6| 30|             missing|Lindsay Lohan's B...|Lindsay Lohan's g...|             TMZ|[lindsay, lohans,...|\n",
      "| 6.43|2018-06-28|2018|    6| 28|Matthew Miller, M...|Exclusive: China ...|BEIJING/WASHINGTO...|         Reuters|[beijingwashingto...|\n",
      "| 6.44|2019-06-19|2019|    6| 19|             missing|Germany seeking E...|BERLIN, June 19 (...|         Reuters|[berlin, june, re...|\n",
      "| 7.45|2018-07-27|2018|    7| 27|            Tim Hume|Mass protests hav...|Thousands of Pole...|       Vice News|[thousands, pole,...|\n",
      "|10.46|2016-10-05|2016|   10|  5|        Tara Golshan|How the Clinton c...|Sen. Tim Kaine ma...|             Vox|[sen, tim, kaine,...|\n",
      "| 3.47|2019-03-05|2019|    3|  5|      Gaby Del Valle|Virgin Atlantic u...|Virgin Atlantic i...|             Vox|[virgin, atlantic...|\n",
      "| 6.48|2019-06-24|2019|    6| 24|      Padraic Halpin|IEA concerned abo...|DUBLIN (Reuters) ...|         Reuters|[dublin, reuter, ...|\n",
      "| 1.49|2017-01-18|2017|    1| 18|             missing|NYPD Honcho Insul...|Lin-Manuel Mirand...|             TMZ|[linmanuel, miran...|\n",
      "| 2.50|2017-02-08|2017|    2|  8|The Secret Life o...|How one woman use...|Startup co-founde...|             Vox|[startup, cofound...|\n",
      "| 2.51|2019-02-01|2019|    2|  1|             missing|Catholic leaders ...|(Reuters) - Roman...|         Reuters|[reuter, roman, c...|\n",
      "| 4.52|2017-04-07|2017|    4|  7|         Dustin Volz|U.S. lawmakers as...|WASHINGTON (Reute...|         Reuters|[washington, reut...|\n",
      "| 5.53|2016-05-15|2016|    5| 15|             missing|Tony Gonzalez: I ...|Gronk isn't the o...|             TMZ|[gronk, isnt, fut...|\n",
      "| 8.54|2016-08-18|2016|    8| 18|       Mike Vorkunov|U.S. Relay Team S...|Ryan Lochte hijin...|            Vice|[ryan, lochte, hi...|\n",
      "| 6.55|2019-06-10|2019|    6| 10|Rod Nickel, Nia W...|RPT-Aging Enbridg...|WINNIPEG, Manitob...|         Reuters|[winnipeg, manito...|\n",
      "| 7.56|2019-07-01|2019|    7|  1|Justin George Var...|WPP in exclusive ...|(Reuters) - WPP (...|         Reuters|[reuter, wpp, wpp...|\n",
      "|10.57|2017-10-16|2017|   10| 16|James Oliphant, R...|Trump keeping opt...|WASHINGTON (Reute...|         Reuters|[washington, reut...|\n",
      "| 3.58|2016-03-02|2016|    3|  2|   Elisa Wouk Almino|Marcel Broodthaer...|Advertise on Hype...|   Hyperallergic|[advertise, hyper...|\n",
      "| 6.59|2019-06-20|2019|    6| 20|     Gergely Szakacs|Hungary has no ev...|BUDAPEST (Reuters...|         Reuters|[budapest, reuter...|\n",
      "| 5.60|2016-05-31|2016|    5| 31|      Todd Schneider|How love and marr...|The New York Time...|             Vox|[new, york, time,...|\n",
      "| 8.61|2017-08-03|2017|    8|  3|     Jason Guerrasio|'The Dark Tower' ...|There's a creed T...|Business Insider|[creed, gunslinge...|\n",
      "|12.62|2017-12-18|2017|   12| 18|           Rob Zacny|The Best Christma...|Open Thread is a ...|            Vice|[open, thread, da...|\n",
      "| 7.63|2017-07-19|2017|    7| 19|Anna  Fitzpatrick...|Finally, Someone ...| Porn star Nina H...|            Vice|[porn, star, nina...|\n",
      "| 4.64|2018-04-18|2018|    4| 18|        Kaylee Fagan|Fortnite meteors ...|Meteors have been...|         missing|[meteor, see, fal...|\n",
      "| 4.65|2018-04-02|2018|    4|  2|Daniel Stächelin,...|In Turkey, Music ...|A version of this...|            Vice|[version, article...|\n",
      "| 5.66|2018-05-26|2018|    5| 26|   Christianna Silva|It's 2018, and th...|Voters in Illinoi...|       Vice News|[voter, illinois,...|\n",
      "| 6.67|2019-06-24|2019|    6| 24|             missing|Polish driving te...|WARSAW (Reuters) ...|         Reuters|[warsaw, reuter, ...|\n",
      "| 2.68|2017-02-16|2017|    2| 16|   Elisa Wouk Almino|The Only Known Fi...|In the first foot...|   Hyperallergic|[first, footage, ...|\n",
      "| 4.69|2016-04-29|2016|    4| 29|        Eric Johnson|Time for some dig...|Summer’s almost h...|             Vox|[summer, almost, ...|\n",
      "|12.70|2016-12-14|2016|   12| 14|         Phil Witmer|Yung Lean Gives U...|Yung Lean has som...|            Vice|[yung, lean, some...|\n",
      "| 1.71|2017-01-31|2017|    1| 31|        Julia Belluz|Peter Thiel vs. t...|Since the electio...|             Vox|[since, election,...|\n",
      "| 2.72|2016-02-08|2016|    2|  8|          VICE Staff|Michael Bloomberg...|Michael Bloomberg...|            Vice|[michael, bloombe...|\n",
      "| 7.73|2019-07-05|2019|    7|  5|             missing|No breakthrough w...|BRUSSELS (Reuters...|         Reuters|[brussels, reuter...|\n",
      "| 4.74|2017-04-24|2017|    4| 24|             missing|Aaron Hernandez's...|Letters were foun...|             TMZ|[letter, find, in...|\n",
      "| 5.75|2016-05-31|2016|    5| 31|School of Visual ...|Explore Digital S...|During their firs...|   Hyperallergic|[first, spring, s...|\n",
      "| 5.76|2018-05-25|2018|    5| 25|             missing|Harvey Weinstein ...|Harvey Weinstein ...|             TMZ|[harvey, weinstei...|\n",
      "|12.77|2017-12-12|2017|   12| 12|             missing|LiAngelo & LaMelo...|If anyone can tel...|             TMZ|[anyone, tell, go...|\n",
      "| 4.78|2016-04-03|2016|    4|  3|             missing|Jaleel White: Nik...|Jaleel White thin...|             TMZ|[jaleel, white, n...|\n",
      "| 7.79|2016-07-11|2016|    7| 11|           Tim Casey|MaliVai Washingto...|Welcome to VICE S...|            Vice|[welcome, vice, s...|\n",
      "| 9.80|2016-09-07|2016|    9|  7|             missing|Jeremy Renner Set...|Jeremy Renner has...|             TMZ|[jeremy, renner, ...|\n",
      "| 8.81|2016-08-26|2016|    8| 26|      Matt Stromberg|The Second Coming...|Advertise on Hype...|   Hyperallergic|[advertise, hyper...|\n",
      "| 1.82|2018-01-21|2018|    1| 21|         Peter Kafka|NFL playoffs: How...|There are two NFL...|             Vox|[two, nfl, game, ...|\n",
      "| 1.83|2019-01-03|2019|    1|  3|             missing|Iran rejects U.S....|DUBAI (Reuters) -...|         Reuters|[dubai, reuter, i...|\n",
      "| 6.84|2019-06-20|2019|    6| 20| Neil Jerome Morales|Philippines' Glob...|MANILA (Reuters) ...|         Reuters|[manila, reuter, ...|\n",
      "| 1.85|2016-01-08|2016|    1|  8|          Matt Smith|Oil-Rich Oklahoma...|Nearly three doze...|       Vice News|[nearly, three, d...|\n",
      "| 1.86|2019-01-18|2019|    1| 18|   Katharine Jackson|Trump tells anti-...|WASHINGTON (Reute...|         Reuters|[washington, reut...|\n",
      "| 6.87|2019-06-25|2019|    6| 25|      Laurie Goering|Despite climate p...|LONDON (Thomson R...|         Reuters|[london, thomson,...|\n",
      "|10.88|2018-10-19|2018|   10| 19|             missing|Adam Rippon Says ...|Aly Raisman and h...|             TMZ|[aly, raisman, te...|\n",
      "| 7.89|2019-07-12|2019|    7| 12|     Mairav Zonszein|Why Jews Are Gett...|While most Americ...|       Vice News|[american, prepar...|\n",
      "|10.90|2016-10-06|2016|   10|  6|      Shinichi Inoue|The Sushi Chef: S...|Shinichi Inoue tr...|            Vice|[shinichi, inoue,...|\n",
      "| 2.91|2016-02-25|2016|    2| 25|    Matthew Yglesias|Why Obama is vett...|Brian Sandoval, t...|             Vox|[brian, sandoval,...|\n",
      "| 7.92|2016-07-21|2016|    7| 21|     Michelle Conlin|Exclusive: Trump ...|CLEVELAND (Reuter...|         Reuters|[cleveland, reute...|\n",
      "|12.93|2017-12-06|2017|   12|  6|          Ahmer Khan|Photos: These are...|COX’S BAZAR, Bang...|       Vice News|[coxs, bazar, ban...|\n",
      "| 1.94|2016-01-21|2016|    1| 21|         Claire Voon|A Radiologist's X...|When we think of ...|   Hyperallergic|[xrays, generally...|\n",
      "| 6.95|2019-06-26|2019|    6| 26|             missing|Switzerland's Sof...|ZURICH, June 26 (...|         Reuters|[zurich, june, re...|\n",
      "| 9.96|2017-09-26|2017|    9| 26|          Rani Molla|Where the softwar...|Software companie...|             Vox|[software, compan...|\n",
      "| 5.97|2019-05-27|2019|    5| 27|             missing|Will Smith Secret...|Will Smith is one...|             TMZ|[smith, one, big,...|\n",
      "| 4.98|2018-04-20|2018|    4| 20|             missing|TMZ Live Cardi B ...|HERE'S THE RUNDOW...|             TMZ|[rundowntristan, ...|\n",
      "|12.99|2017-12-22|2017|   12| 22|          Anna North|More than 50 peop...|Harvey Weinstein ...|             Vox|[harvey, weinstei...|\n",
      "|3.100|2016-03-16|2016|    3| 16|       Andrew Prokop|Here's the math f...|Bernie Sanders fe...|             Vox|[bernie, sanders,...|\n",
      "+-----+----------+----+-----+---+--------------------+--------------------+--------------------+----------------+--------------------+\n",
      "only showing top 100 rows\n",
      "\n"
     ]
    }
   ],
   "source": [
    "results.show(100)"
   ]
  },
  {
   "cell_type": "code",
   "execution_count": null,
   "metadata": {},
   "outputs": [],
   "source": []
  },
  {
   "cell_type": "code",
   "execution_count": 24,
   "metadata": {},
   "outputs": [],
   "source": [
    "results.write.format(\"csv\").option(\"quote\", \"\\\"\").option(\"escape\", \"\\\"\").option(\"encoding\", \"UTF-8\").option(\"header\",\"true\").mode(\"Overwrite\").save(\"s3://largedatabucket/clean\")"
   ]
  },
  {
   "cell_type": "code",
   "execution_count": null,
   "metadata": {},
   "outputs": [],
   "source": []
  }
 ],
 "metadata": {
  "kernelspec": {
   "display_name": "Python 3",
   "language": "python",
   "name": "python3"
  },
  "language_info": {
   "codemirror_mode": {
    "name": "ipython",
    "version": 3
   },
   "file_extension": ".py",
   "mimetype": "text/x-python",
   "name": "python",
   "nbconvert_exporter": "python",
   "pygments_lexer": "ipython3",
   "version": "3.7.9"
  }
 },
 "nbformat": 4,
 "nbformat_minor": 4
}
